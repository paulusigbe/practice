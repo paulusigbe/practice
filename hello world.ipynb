{
 "cells": [
  {
   "cell_type": "code",
   "execution_count": 24,
   "id": "2e8f1b13-e3ed-4fa5-b6fe-1e967a9ea2e7",
   "metadata": {},
   "outputs": [],
   "source": [
    "x = 1\n",
    "y = 2\n",
    "unit_price = 3"
   ]
  },
  {
   "cell_type": "code",
   "execution_count": 28,
   "id": "b873d657-b220-4a95-aea9-bab3c152f51d",
   "metadata": {},
   "outputs": [
    {
     "name": "stdout",
     "output_type": "stream",
     "text": [
      "Hello World\n",
      "**********\n"
     ]
    }
   ],
   "source": [
    "print(\"Hello World\")\n",
    "\n",
    "print (\"*\" * 10)"
   ]
  },
  {
   "cell_type": "code",
   "execution_count": 32,
   "id": "d9b7f33e-0a5d-4517-a403-5305e20f4d63",
   "metadata": {},
   "outputs": [
    {
     "name": "stdout",
     "output_type": "stream",
     "text": [
      "1000\n"
     ]
    }
   ],
   "source": [
    "#VARIABLES\n",
    "#INTEGERS, FLOAT,  BOOLEAN, STRINGS\n",
    "students_count = 1000\n",
    "rating = 4.99\n",
    "is_published = False\n",
    "course_name = \"Python Programing\"\n",
    "print(students_count)"
   ]
  },
  {
   "cell_type": "code",
   "execution_count": 44,
   "id": "8fa61e2c-118d-4fe3-ae4d-9a732d507932",
   "metadata": {},
   "outputs": [
    {
     "name": "stdout",
     "output_type": "stream",
     "text": [
      "18\n",
      "P\n",
      "g\n",
      "Pyt\n",
      "Python Programming\n",
      "Pyt\n",
      "Python Programming\n"
     ]
    }
   ],
   "source": [
    "#VARIABLE NAMES: Variable names must be descriptive and meaningful\n",
    "#in python we cannot use space so underscore is used to seperate words to make it meaningful\n",
    "#Whenever you work with text, you must surround your text with double or single quotes\n",
    "\n",
    "course = \"Python Programming\"\n",
    "len(course)\n",
    "print(len(course))\n",
    "print(course[0])\n",
    "print(course[-1])\n",
    "print(course[0:3])\n",
    "print(course[0:])\n",
    "print(course[:3])\n",
    "print(course[:])"
   ]
  },
  {
   "cell_type": "code",
   "execution_count": 48,
   "id": "89263b4d-6a38-4531-91e4-80a7fb6c8519",
   "metadata": {},
   "outputs": [
    {
     "name": "stdout",
     "output_type": "stream",
     "text": [
      "Python \n",
      "Programming\n"
     ]
    }
   ],
   "source": [
    "#ESCAPE CHARACHTER\n",
    "#ESCAPE SEQUENCES\n",
    "#\\\"\n",
    "#\\'\n",
    "#\\\\\n",
    "#\\n\n",
    "\n",
    "course = \"Python \\nProgramming\"\n",
    "print(course)\n"
   ]
  },
  {
   "cell_type": "code",
   "execution_count": 50,
   "id": "8a8728b9-4cec-4ac9-97df-f5c40c117660",
   "metadata": {},
   "outputs": [
    {
     "name": "stdout",
     "output_type": "stream",
     "text": [
      "Mosh Hamedani\n"
     ]
    }
   ],
   "source": [
    "#FORMATTED STRINGS\n",
    "first = \"Mosh\"\n",
    "last = \"Hamedani\"\n",
    "full = f\"{first} {last}\"\n",
    "print(full)"
   ]
  },
  {
   "cell_type": "code",
   "execution_count": 65,
   "id": "6e508060-aba5-4b33-a6a5-85cf9fd39d0e",
   "metadata": {},
   "outputs": [
    {
     "name": "stdout",
     "output_type": "stream",
     "text": [
      "PYTHON PROGRAMMING\n",
      "python programming\n",
      "Python Programming\n",
      "Python Programming\n",
      "7\n",
      "Jython Jrogramming\n",
      "True\n"
     ]
    }
   ],
   "source": [
    "#STRING METHODS\n",
    "\n",
    "course = \"Python Programming\"\n",
    "print(course.upper())\n",
    "print(course.lower())\n",
    "print(course.title())\n",
    "print(course.strip())\n",
    "print(course.find(\"Pro\"))\n",
    "print(course.replace(\"P\",\"J\"))\n",
    "print(\"Pro\" in course)\n"
   ]
  },
  {
   "cell_type": "code",
   "execution_count": 67,
   "id": "e6edf8a3-524f-40db-9ff4-ef978ff2b032",
   "metadata": {},
   "outputs": [
    {
     "name": "stdout",
     "output_type": "stream",
     "text": [
      "13\n",
      "7\n",
      "30\n",
      "3.3333333333333335\n",
      "3\n",
      "1\n",
      "1000\n"
     ]
    }
   ],
   "source": [
    "#COMPLEX NUMBERS\n",
    "#ARITHMETIC OPERATORS\n",
    "x = 1\n",
    "x = 1.1\n",
    "x = 1 + 2j #a + bi\n",
    "\n",
    "print(10 + 3)\n",
    "print(10 - 3)\n",
    "print(10 * 3)\n",
    "print(10 / 3)\n",
    "print(10 // 3)\n",
    "print(10 % 3)\n",
    "print(10 ** 3)\n",
    "\n",
    "#AUGMENTED ASSIGNMENT OPERATOR\n",
    "x = 10\n",
    "x = x + 3\n",
    "#SAME AS\n",
    "x += 3\n"
   ]
  },
  {
   "cell_type": "code",
   "execution_count": 71,
   "id": "bcc310da-b9ed-42ac-ac39-5b0f1112c074",
   "metadata": {},
   "outputs": [
    {
     "name": "stdout",
     "output_type": "stream",
     "text": [
      "3\n",
      "2.9\n",
      "3\n"
     ]
    }
   ],
   "source": [
    "#WORKING WITH NUMBERS\n",
    "import math\n",
    "print(round(2.9))\n",
    "print(abs(-2.9))\n",
    "\n",
    "print(math.ceil(2.2))"
   ]
  },
  {
   "cell_type": "code",
   "execution_count": 79,
   "id": "8e771ad3-8b6d-417d-ade0-e1c0c687d004",
   "metadata": {},
   "outputs": [
    {
     "name": "stdin",
     "output_type": "stream",
     "text": [
      "x:  1\n"
     ]
    },
    {
     "name": "stdout",
     "output_type": "stream",
     "text": [
      "x: 1, y: 2\n"
     ]
    }
   ],
   "source": [
    "#TYPE CONVERSION\n",
    "#int()\n",
    "#float()\n",
    "#bool()\n",
    "str()\n",
    "x = input(\"x: \")\n",
    "y = int(x) + 1\n",
    "print(f\"x: {x}, y: {y}\")"
   ]
  },
  {
   "cell_type": "code",
   "execution_count": 85,
   "id": "f48f28a8-6fa9-4229-9739-ca6714cda944",
   "metadata": {},
   "outputs": [
    {
     "data": {
      "text/plain": [
       "True"
      ]
     },
     "execution_count": 85,
     "metadata": {},
     "output_type": "execute_result"
    }
   ],
   "source": [
    "#COMPARISON OPERATORS\n",
    "10 > 3\n",
    "10 >= 3\n",
    "10 < 20\n",
    "10 <= 20\n",
    "10 == 10\n",
    "10 == \"10\"\n",
    "10 != \"10\" #not equal to\n",
    "#with STRINGS"
   ]
  },
  {
   "cell_type": "code",
   "execution_count": 93,
   "id": "43555453-bd35-4478-bd65-0fe42a52cf77",
   "metadata": {},
   "outputs": [
    {
     "name": "stdout",
     "output_type": "stream",
     "text": [
      "it's Cold\n",
      "Done\n"
     ]
    }
   ],
   "source": [
    "#CONDITIONAL STATEMENTS\n",
    "temperature = 15\n",
    "if temperature > 30:\n",
    "    print(\"it's warm\")\n",
    "    print(\"Drink water\")\n",
    "elif temperature > 20:\n",
    "    print(\"It's nice\")\n",
    "else:\n",
    "    print(\"it's Cold\")\n",
    "print(\"Done\")"
   ]
  },
  {
   "cell_type": "code",
   "execution_count": 99,
   "id": "ee987300-56ef-458c-8576-ae1085f87a25",
   "metadata": {},
   "outputs": [
    {
     "name": "stdout",
     "output_type": "stream",
     "text": [
      "Eligible\n",
      "Eligible\n"
     ]
    }
   ],
   "source": [
    "#TERNARY OPERATOR\n",
    "#WRITING A PROGRAM FOR A UNIVERSITY (EXAMPLE)\n",
    "age = 22\n",
    "if age >= 18:\n",
    "    message = \"Eligible\"\n",
    "else:\n",
    "    message = \"Not eligible\"\n",
    "\n",
    "print(message)\n",
    "\n",
    "#TERNARY OPERATOR\n",
    "message = \"Eligible\" if age >= 18 else \"Not eligible\"\n",
    "print(message)"
   ]
  },
  {
   "cell_type": "code",
   "execution_count": 101,
   "id": "cbee73e1-2111-48d6-b072-62f1e004939f",
   "metadata": {},
   "outputs": [
    {
     "name": "stdout",
     "output_type": "stream",
     "text": [
      "Eligible\n"
     ]
    }
   ],
   "source": [
    "#LOGICAL OPERATORS\n",
    "#and , or, not\n",
    "#APPLICATION FOR PROCESSING LOAN\n",
    "high_income = True\n",
    "good_credit = True\n",
    "\n",
    "if high_income and good_credit:\n",
    "    print(\"Eligible\")\n",
    "else:\n",
    "    print(\"Not Eligible\")"
   ]
  },
  {
   "cell_type": "code",
   "execution_count": 107,
   "id": "7f7af08c-bcf5-418e-8314-6c046486f902",
   "metadata": {},
   "outputs": [
    {
     "name": "stdout",
     "output_type": "stream",
     "text": [
      "Eligible\n"
     ]
    }
   ],
   "source": [
    "#LOGICAL OPERATORS\n",
    "#and , or, not\n",
    "#APPLICATION FOR PROCESSING LOAN\n",
    "high_income = False\n",
    "good_credit = True\n",
    "\n",
    "if high_income or good_credit:\n",
    "    print(\"Eligible\")\n",
    "else:\n",
    "    print(\"Not Eligible\")"
   ]
  },
  {
   "cell_type": "code",
   "execution_count": 111,
   "id": "e4e9711a-3c9a-4390-9478-c2a70482ce59",
   "metadata": {},
   "outputs": [
    {
     "name": "stdout",
     "output_type": "stream",
     "text": [
      "Eligible\n"
     ]
    }
   ],
   "source": [
    "#LOGICAL OPERATORS\n",
    "#and , or, not\n",
    "#APPLICATION FOR PROCESSING LOAN\n",
    "high_income = False\n",
    "good_credit = True\n",
    "student = False\n",
    "\n",
    "if (high_income or good_credit) and not student:\n",
    "    print(\"Eligible\")\n",
    "else:\n",
    "    print(\"Not Eligible\")"
   ]
  },
  {
   "cell_type": "code",
   "execution_count": 115,
   "id": "33789a26-442e-4245-af1f-54d7c5a7e0c6",
   "metadata": {},
   "outputs": [
    {
     "name": "stdout",
     "output_type": "stream",
     "text": [
      "Eligible\n"
     ]
    }
   ],
   "source": [
    "#SHORT-CIRCUIT EVALUATION\n",
    "#IN PYTHON LOGICAL OPERATORS ARE SHORT CIRCUIT\n",
    "high_income = True\n",
    "good_credit = True\n",
    "student = True\n",
    "\n",
    "if high_income or good_credit or not student:\n",
    "    print(\"Eligible\")\n",
    "else:\n",
    "    print(\"Not Eligible\")\n"
   ]
  },
  {
   "cell_type": "code",
   "execution_count": 119,
   "id": "f3e58bcf-912c-4ca9-bc4b-a97bd2811389",
   "metadata": {},
   "outputs": [
    {
     "name": "stdout",
     "output_type": "stream",
     "text": [
      "Eligible\n"
     ]
    }
   ],
   "source": [
    "#CHAINING COMPARISON OPERATORS\n",
    "#Age should be between 18 and 65\n",
    "age = 22\n",
    "#if age >= 18 and age < 65: same as\n",
    "if 18 <= age < 65:\n",
    "    print(\"Eligible\")\n"
   ]
  },
  {
   "cell_type": "code",
   "execution_count": 121,
   "id": "76991d5c-d310-46ed-802b-f06d45b17642",
   "metadata": {},
   "outputs": [
    {
     "name": "stdout",
     "output_type": "stream",
     "text": [
      "c\n"
     ]
    }
   ],
   "source": [
    "if 10 == \"10\":\n",
    "    print (\"a\")\n",
    "elif \"bag\" > \"apple\" and \"bag\" > \"cat\":\n",
    "    print(\"b\")\n",
    "else:\n",
    "    print(\"c\")"
   ]
  },
  {
   "cell_type": "code",
   "execution_count": 129,
   "id": "e7c143ff-ee41-4f15-b135-9d0c9b12d306",
   "metadata": {},
   "outputs": [
    {
     "name": "stdout",
     "output_type": "stream",
     "text": [
      "Attempt 1 .\n",
      "Attempt 2 ..\n",
      "Attempt 3 ...\n"
     ]
    }
   ],
   "source": [
    "#FOR LOOPS (CREATES REPEATATION\n",
    "for number in range(1, 4):\n",
    "    print(\"Attempt\", number, number  * \".\")\n"
   ]
  },
  {
   "cell_type": "code",
   "execution_count": 135,
   "id": "bf9796e3-09f6-48aa-bcde-7aa4cdcfd921",
   "metadata": {},
   "outputs": [
    {
     "name": "stdout",
     "output_type": "stream",
     "text": [
      "Attempt\n",
      "Successful\n"
     ]
    }
   ],
   "source": [
    "#FOR..ELSE\n",
    "successful = True\n",
    "for number in range(3):\n",
    "    print(\"Attempt\")\n",
    "    if successful:\n",
    "        print(\"Successful\")\n",
    "        break\n",
    "else:\n",
    "    print(\"Attempted 3 time and failed\")"
   ]
  },
  {
   "cell_type": "code",
   "execution_count": 147,
   "id": "9ccbd6d8-f87d-4fba-ba08-8a7cbd2a8c53",
   "metadata": {},
   "outputs": [
    {
     "name": "stdout",
     "output_type": "stream",
     "text": [
      "(0, 0)\n",
      "(0, 1)\n",
      "(0, 2)\n",
      "(1, 0)\n",
      "(1, 1)\n",
      "(1, 2)\n",
      "(2, 0)\n",
      "(2, 1)\n",
      "(2, 2)\n",
      "(3, 0)\n",
      "(3, 1)\n",
      "(3, 2)\n",
      "(4, 0)\n",
      "(4, 1)\n",
      "(4, 2)\n"
     ]
    }
   ],
   "source": [
    "#NESTED LOOPs\n",
    "for x in range(5):\n",
    "    for y in range(3):\n",
    "        print(f\"({x}, {y})\")"
   ]
  },
  {
   "cell_type": "code",
   "execution_count": 143,
   "id": "faaa7cc4-d6ea-42a5-b8c6-1226c014e29b",
   "metadata": {},
   "outputs": [
    {
     "name": "stdout",
     "output_type": "stream",
     "text": [
      "0\n",
      "1\n",
      "2\n",
      "3\n",
      "4\n"
     ]
    }
   ],
   "source": [
    "#ITERABLES\n",
    "for x in range(5):\n",
    "    print(x)"
   ]
  },
  {
   "cell_type": "code",
   "execution_count": 145,
   "id": "23d67ecb-f8ab-4639-8de0-42fe14f91a66",
   "metadata": {},
   "outputs": [
    {
     "name": "stdout",
     "output_type": "stream",
     "text": [
      "100\n",
      "50\n",
      "25\n",
      "12\n",
      "6\n",
      "3\n",
      "1\n"
     ]
    }
   ],
   "source": [
    "#While loop\n",
    "number = 100\n",
    "while number > 0:\n",
    "    print(number)\n",
    "    number //= 2"
   ]
  },
  {
   "cell_type": "code",
   "execution_count": 155,
   "id": "42009776-59a7-43e4-b01c-c68b536974ac",
   "metadata": {},
   "outputs": [
    {
     "name": "stdin",
     "output_type": "stream",
     "text": [
      "> well\n"
     ]
    },
    {
     "name": "stdout",
     "output_type": "stream",
     "text": [
      "ECHO well\n"
     ]
    },
    {
     "name": "stdin",
     "output_type": "stream",
     "text": [
      "> QUIT\n"
     ]
    },
    {
     "name": "stdout",
     "output_type": "stream",
     "text": [
      "ECHO QUIT\n"
     ]
    }
   ],
   "source": [
    "command = \"\"\n",
    "while command.lower() != \"quit\":\n",
    "    command = input(\">\")\n",
    "    print(\"ECHO\", command)"
   ]
  },
  {
   "cell_type": "code",
   "execution_count": 162,
   "id": "992e66ce-baea-4b71-a9f0-4bb317a4bc43",
   "metadata": {},
   "outputs": [
    {
     "name": "stdin",
     "output_type": "stream",
     "text": [
      "> quit\n"
     ]
    },
    {
     "name": "stdout",
     "output_type": "stream",
     "text": [
      "ECHO quit\n"
     ]
    }
   ],
   "source": [
    "#INFINIT LOOP\n",
    "while True:\n",
    "    command = input(\">\")\n",
    "    print(\"ECHO\", command)\n",
    "    if command.lower() == \"quit\":\n",
    "        break\n",
    "        \n",
    "    "
   ]
  },
  {
   "cell_type": "code",
   "execution_count": 192,
   "id": "8c046cdc-66df-452a-8b34-ec897c47d35c",
   "metadata": {},
   "outputs": [
    {
     "name": "stdout",
     "output_type": "stream",
     "text": [
      "2\n",
      "4\n",
      "6\n",
      "8\n",
      "we have 4 even numbers\n"
     ]
    }
   ],
   "source": [
    "count = 0\n",
    "for x in range(1, 10):\n",
    "    if x % 2 == 0:\n",
    "        count += 1\n",
    "        print(x)\n",
    "print(f\"we have {count} even numbers\")"
   ]
  },
  {
   "cell_type": "code",
   "execution_count": 223,
   "id": "2678d8dc-4788-4f18-b4c0-5891f3425035",
   "metadata": {},
   "outputs": [],
   "source": [
    "#FUNCTIONS\n",
    "def salute(first_name, Last_name):\n",
    "#    print(f\"Hi {first_name} {last_name}\")\n",
    "    print(\"Welcome aboard\")\n",
    "\n",
    "#print(salute(\"Paul\", \"Usigbe\"))\n"
   ]
  },
  {
   "cell_type": "code",
   "execution_count": 221,
   "id": "6dff328b-257f-4e66-aad0-aa87cb02358b",
   "metadata": {},
   "outputs": [
    {
     "name": "stdout",
     "output_type": "stream",
     "text": [
      "3\n"
     ]
    }
   ],
   "source": [
    "def increment(number, by):\n",
    "    return number + by\n",
    "\n",
    "print(increment(2, 1))"
   ]
  },
  {
   "cell_type": "code",
   "execution_count": null,
   "id": "dc44db21-5aeb-4cae-940c-9eb3a5dc85dc",
   "metadata": {},
   "outputs": [],
   "source": []
  },
  {
   "cell_type": "code",
   "execution_count": null,
   "id": "1080e024-e0ea-4252-a75a-319bc4e0afc5",
   "metadata": {},
   "outputs": [],
   "source": [
    "#CATEGORIES FOR MISSING VALUES\n",
    "#df.isnull()\n",
    "#df.isna().sum()\n",
    "#"
   ]
  }
 ],
 "metadata": {
  "kernelspec": {
   "display_name": "Python [conda env:base] *",
   "language": "python",
   "name": "conda-base-py"
  },
  "language_info": {
   "codemirror_mode": {
    "name": "ipython",
    "version": 3
   },
   "file_extension": ".py",
   "mimetype": "text/x-python",
   "name": "python",
   "nbconvert_exporter": "python",
   "pygments_lexer": "ipython3",
   "version": "3.12.7"
  }
 },
 "nbformat": 4,
 "nbformat_minor": 5
}
