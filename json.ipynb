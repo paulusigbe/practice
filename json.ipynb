{
 "cells": [
  {
   "cell_type": "code",
   "execution_count": 21,
   "id": "e3cc307e-6fde-4867-8c57-c20e8e2ec2ff",
   "metadata": {
    "scrolled": true
   },
   "outputs": [
    {
     "name": "stdout",
     "output_type": "stream",
     "text": [
      "    userId   id                                              title  \\\n",
      "0        1    1  sunt aut facere repellat provident occaecati e...   \n",
      "1        1    2                                       qui est esse   \n",
      "2        1    3  ea molestias quasi exercitationem repellat qui...   \n",
      "3        1    4                               eum et est occaecati   \n",
      "4        1    5                                 nesciunt quas odio   \n",
      "..     ...  ...                                                ...   \n",
      "95      10   96  quaerat velit veniam amet cupiditate aut numqu...   \n",
      "96      10   97         quas fugiat ut perspiciatis vero provident   \n",
      "97      10   98                        laboriosam dolor voluptates   \n",
      "98      10   99  temporibus sit alias delectus eligendi possimu...   \n",
      "99      10  100              at nam consequatur ea labore ea harum   \n",
      "\n",
      "                                                 body  \n",
      "0   quia et suscipit\\nsuscipit recusandae consequu...  \n",
      "1   est rerum tempore vitae\\nsequi sint nihil repr...  \n",
      "2   et iusto sed quo iure\\nvoluptatem occaecati om...  \n",
      "3   ullam et saepe reiciendis voluptatem adipisci\\...  \n",
      "4   repudiandae veniam quaerat sunt sed\\nalias aut...  \n",
      "..                                                ...  \n",
      "95  in non odio excepturi sint eum\\nlabore volupta...  \n",
      "96  eum non blanditiis soluta porro quibusdam volu...  \n",
      "97  doloremque ex facilis sit sint culpa\\nsoluta a...  \n",
      "98  quo deleniti praesentium dicta non quod\\naut e...  \n",
      "99  cupiditate quo est a modi nesciunt soluta\\nips...  \n",
      "\n",
      "[100 rows x 4 columns]\n",
      "userId\n",
      "1     10\n",
      "2     10\n",
      "3     10\n",
      "4     10\n",
      "5     10\n",
      "6     10\n",
      "7     10\n",
      "8     10\n",
      "9     10\n",
      "10    10\n",
      "Name: count, dtype: int64\n",
      "\n",
      "\n",
      "0     74\n",
      "1     12\n",
      "2     59\n",
      "3     20\n",
      "4     18\n",
      "      ..\n",
      "95    57\n",
      "96    42\n",
      "97    27\n",
      "98    53\n",
      "99    37\n",
      "Name: title, Length: 100, dtype: int64\n",
      "    userId   id                                              title  \\\n",
      "0        1    1  sunt aut facere repellat provident occaecati e...   \n",
      "1        1    2                                       qui est esse   \n",
      "2        1    3  ea molestias quasi exercitationem repellat qui...   \n",
      "3        1    4                               eum et est occaecati   \n",
      "4        1    5                                 nesciunt quas odio   \n",
      "..     ...  ...                                                ...   \n",
      "95      10   96  quaerat velit veniam amet cupiditate aut numqu...   \n",
      "96      10   97         quas fugiat ut perspiciatis vero provident   \n",
      "97      10   98                        laboriosam dolor voluptates   \n",
      "98      10   99  temporibus sit alias delectus eligendi possimu...   \n",
      "99      10  100              at nam consequatur ea labore ea harum   \n",
      "\n",
      "                                                 body  multiplication  \n",
      "0   quia et suscipit\\nsuscipit recusandae consequu...               1  \n",
      "1   est rerum tempore vitae\\nsequi sint nihil repr...               2  \n",
      "2   et iusto sed quo iure\\nvoluptatem occaecati om...               3  \n",
      "3   ullam et saepe reiciendis voluptatem adipisci\\...               4  \n",
      "4   repudiandae veniam quaerat sunt sed\\nalias aut...               5  \n",
      "..                                                ...             ...  \n",
      "95  in non odio excepturi sint eum\\nlabore volupta...             960  \n",
      "96  eum non blanditiis soluta porro quibusdam volu...             970  \n",
      "97  doloremque ex facilis sit sint culpa\\nsoluta a...             980  \n",
      "98  quo deleniti praesentium dicta non quod\\naut e...             990  \n",
      "99  cupiditate quo est a modi nesciunt soluta\\nips...            1000  \n",
      "\n",
      "[100 rows x 5 columns]\n"
     ]
    }
   ],
   "source": [
    "import pandas as pd\n",
    "\n",
    "import requests\n",
    "\n",
    "resp = requests.get(\"https://jsonplaceholder.typicode.com/posts\")\n",
    "\n",
    "data = resp.json()\n",
    "\n",
    "df = pd.DataFrame(data)\n",
    "\n",
    "print(df)\n",
    "\n",
    "user = df['userId'].value_counts().sort_index()\n",
    "\n",
    "print(user)\n",
    "\n",
    "user_Title = df['title'].apply(len)\n",
    "\n",
    "print()\n",
    "print()\n",
    "print(user_Title)\n",
    "\n",
    "df['multiplication'] = df['userId'] * df['id']\n",
    "\n",
    "df.drop('title', axis = 1)\n",
    "\n",
    "print(df)"
   ]
  },
  {
   "cell_type": "code",
   "execution_count": null,
   "id": "fb74250c-f637-45f6-a8fc-3fb0c0a0e376",
   "metadata": {},
   "outputs": [],
   "source": []
  },
  {
   "cell_type": "code",
   "execution_count": 27,
   "id": "a0a16edf-2352-4bed-bd70-ae39dbea1533",
   "metadata": {},
   "outputs": [
    {
     "name": "stdout",
     "output_type": "stream",
     "text": [
      "[\n",
      "  {\n",
      "    \"name\":\"James\",\n",
      "    \"age\":70\n",
      "  },\n",
      "  {\n",
      "    \"name\":\"John\",\n",
      "    \"age\":80\n",
      "  },\n",
      "  {\n",
      "    \"name\":\"Ibrahim\",\n",
      "    \"age\":90\n",
      "  },\n",
      "  {\n",
      "    \"name\":\"Silas\",\n",
      "    \"age\":45\n",
      "  }\n",
      "]\n"
     ]
    }
   ],
   "source": [
    "df = pd.DataFrame({\n",
    "    'name' : ['James', 'John', 'Ibrahim', 'Silas'],\n",
    "    'age' : [70, 80, 90, 45]\n",
    "\n",
    "})\n",
    "\n",
    "json_data = df.to_json(orient = 'records', indent = 2)\n",
    "\n",
    "print(json_data)"
   ]
  },
  {
   "cell_type": "code",
   "execution_count": 43,
   "id": "133bb335-b697-45c7-8eed-a36683241ba9",
   "metadata": {},
   "outputs": [
    {
     "name": "stdin",
     "output_type": "stream",
     "text": [
      "Enter your age: 17\n"
     ]
    },
    {
     "name": "stdout",
     "output_type": "stream",
     "text": [
      "You are not eligible to vote\n"
     ]
    }
   ],
   "source": [
    "#conditional statement \n",
    "\n",
    "age = int(input(\"Enter your age:\"))\n",
    "\n",
    "if age >= 18 and age <= 65:\n",
    "    print(\"You are eligible to vote\")\n",
    "else:\n",
    "    print(\"You are not eligible to vote\")"
   ]
  },
  {
   "cell_type": "code",
   "execution_count": 61,
   "id": "8aeba0cf-1344-42ea-a77f-708c48975802",
   "metadata": {},
   "outputs": [
    {
     "name": "stdin",
     "output_type": "stream",
     "text": [
      "color:  green\n"
     ]
    },
    {
     "name": "stdout",
     "output_type": "stream",
     "text": [
      "go\n"
     ]
    }
   ],
   "source": [
    "#CONDITIONAL STATEMENT THAT EXECUTE THE 3 TRAFFIC COLOR\n",
    "\n",
    "traffic_Light  = str(input(\"color: \"))\n",
    "\n",
    "if traffic_Light == \"Red\" or traffic_Light == \"red\":\n",
    "    print(\"stop\")\n",
    "\n",
    "elif traffic_Light == \"Yellow\" or traffic_Light == \"yellow\":\n",
    "    print(\"ready\")\n",
    "\n",
    "elif traffic_Light == \"Green\" or traffic_Light == \"green\":\n",
    "    print(\"go\")\n",
    "\n",
    "else:\n",
    "    print(\"Enter the right color light\")"
   ]
  },
  {
   "cell_type": "code",
   "execution_count": null,
   "id": "6f101897-c669-4035-8c88-117e9540ca19",
   "metadata": {},
   "outputs": [],
   "source": []
  }
 ],
 "metadata": {
  "kernelspec": {
   "display_name": "Python [conda env:base] *",
   "language": "python",
   "name": "conda-base-py"
  },
  "language_info": {
   "codemirror_mode": {
    "name": "ipython",
    "version": 3
   },
   "file_extension": ".py",
   "mimetype": "text/x-python",
   "name": "python",
   "nbconvert_exporter": "python",
   "pygments_lexer": "ipython3",
   "version": "3.12.7"
  }
 },
 "nbformat": 4,
 "nbformat_minor": 5
}
