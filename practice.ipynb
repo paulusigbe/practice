{
 "cells": [
  {
   "cell_type": "code",
   "execution_count": 3,
   "id": "8be845ce-fbaa-4c0e-8a68-1c7ad19ec456",
   "metadata": {},
   "outputs": [
    {
     "name": "stdout",
     "output_type": "stream",
     "text": [
      "My name is Paul , I am 25 years old my favorite color is yellow\n"
     ]
    }
   ],
   "source": [
    "#Declare and Print Variables\n",
    "#Create variables for name, age, and favorite color.\n",
    "#output in a complete sentence\n",
    "\n",
    "name = \"Paul\"\n",
    "age = 25\n",
    "color = \"yellow\"\n",
    "\n",
    "print(\"My name is\",name,\",\",\"I am\",age,\"years old\",\"my favorite color is\",color)"
   ]
  },
  {
   "cell_type": "code",
   "execution_count": 11,
   "id": "8980617d-6431-4b76-93fc-1e204fec12a6",
   "metadata": {},
   "outputs": [
    {
     "name": "stdout",
     "output_type": "stream",
     "text": [
      "My name is Paul, I am 25, my favorite color is yellow\n"
     ]
    }
   ],
   "source": [
    "print(f\"My name is {name}, I am {age}, my favorite color is {color}\")"
   ]
  },
  {
   "cell_type": "code",
   "execution_count": 17,
   "id": "20c74222-4228-4ea4-a69e-95e784e8af66",
   "metadata": {},
   "outputs": [
    {
     "name": "stdout",
     "output_type": "stream",
     "text": [
      "19\n",
      "11\n",
      "60\n",
      "3.75\n",
      "3\n"
     ]
    }
   ],
   "source": [
    "#Create two variables: num1 = 15 and num2 = 4.\n",
    "#Perform and print the results of addition, subtraction, multiplication, division, and modulus.\n",
    "\n",
    "num1 = 15\n",
    "num2 = 4\n",
    "\n",
    "#addition\n",
    "print(num1+num2)\n",
    "\n",
    "#Subtraction\n",
    "print(num1-num2)\n",
    "\n",
    "#multiplication\n",
    "print(num1*num2)\n",
    "\n",
    "#division\n",
    "print(num1/num2)\n",
    "\n",
    "#Modulus\n",
    "print(num1%num2)"
   ]
  },
  {
   "cell_type": "code",
   "execution_count": 19,
   "id": "936124a8-6f0f-486e-95e9-5317dc8599d7",
   "metadata": {},
   "outputs": [
    {
     "name": "stdout",
     "output_type": "stream",
     "text": [
      "153.9384\n",
      "153.9384\n"
     ]
    }
   ],
   "source": [
    "#Given Area = π × radius²,  Use π = 3.1416. given the radius of = 7\n",
    "#calculate the area of the circle\n",
    "\n",
    "pi=3.1416\n",
    "\n",
    "radius=7\n",
    "\n",
    "\n",
    "      \n",
    "area_one =  pi * (radius**2)\n",
    "\n",
    "print(area)\n",
    "print(area_one)"
   ]
  },
  {
   "cell_type": "code",
   "execution_count": 27,
   "id": "adf7191a-4d9b-46b8-b651-de66470176d9",
   "metadata": {},
   "outputs": [
    {
     "name": "stdout",
     "output_type": "stream",
     "text": [
      "10 20\n",
      "10 20\n"
     ]
    }
   ],
   "source": [
    "num1, num2 = 10, 20\n",
    "\n",
    "num3, num4 = num1, num2\n",
    "print(num3, num4)\n",
    "print(num1, num2)"
   ]
  },
  {
   "cell_type": "code",
   "execution_count": 17,
   "id": "cab009ec-a09c-43b4-9550-fa000d6f25fe",
   "metadata": {},
   "outputs": [
    {
     "name": "stdout",
     "output_type": "stream",
     "text": [
      "   year  sales_A  sales_B\n",
      "0  2018      200      500\n",
      "1  2019      400      650\n",
      "2  2020      500      320\n",
      "3  2024      700      110\n",
      "successfully saved\n"
     ]
    },
    {
     "data": {
      "image/png": "[encoded data removed]",
      "text/plain": [
       "<Figure size 640x480 with 1 Axes>"
      ]
     },
     "metadata": {},
     "output_type": "display_data"
    }
   ],
   "source": [
    "import pandas as pd\n",
    "import matplotlib.pyplot as plt\n",
    "\n",
    "\n",
    "sales_Quarter_One = {\n",
    "'year':[2018, 2019, 2020, 2024],\n",
    "'sales_A':[200, 400, 500, 700],\n",
    "'sales_B': [500, 650, 320, 110]\n",
    "\n",
    "}\n",
    "\n",
    "df = pd.DataFrame (sales_Quarter_One)\n",
    "\n",
    "\n",
    "\n",
    "print(df)\n",
    "df.to_csv(r\"/Users/user/Desktop/data.csv\", index=False) \n",
    "\n",
    "df.set_index('year', inplace=True)\n",
    "\n",
    "\n",
    "df.plot(kind='line', alpha=0.9, linewidth=0.5)\n",
    "\n",
    "\n",
    "print(\"successfully saved\")"
   ]
  },
  {
   "cell_type": "code",
   "execution_count": 133,
   "id": "aec3aa58-caec-4d28-95c7-6563ff49ced4",
   "metadata": {},
   "outputs": [
    {
     "name": "stdout",
     "output_type": "stream",
     "text": [
      "1800\n",
      "200\n",
      "700\n",
      "[700, 900, 1200, 1500]\n",
      "[200, 500, 900, 1500]\n"
     ]
    }
   ],
   "source": [
    "sales_A=[200, 400, 500, 700,900,1200,1500,1800]\n",
    "print(sales_A[-1])\n",
    "print(sales_A[0])\n",
    "print(sales_A[3])\n",
    "print(sales_A[3:7])\n",
    "print(sales_A[::2])"
   ]
  },
  {
   "cell_type": "code",
   "execution_count": 135,
   "id": "cf774f34-305f-41dc-8773-bc2836c497d3",
   "metadata": {},
   "outputs": [
    {
     "name": "stdout",
     "output_type": "stream",
     "text": [
      "[400, 1500]\n",
      "900\n",
      "200\n",
      "1800\n",
      "[200, 700, 1500]\n"
     ]
    }
   ],
   "source": [
    "sales_A=[200, 400, 500, 700,900,1200,1500,1800]\n",
    "print(sales_A[1::5])\n",
    "print(sales_A[-4])\n",
    "print(sales_A[0])\n",
    "print(sales_A[7])\n",
    "print(sales_A[::3])"
   ]
  },
  {
   "cell_type": "code",
   "execution_count": 137,
   "id": "7be447b5-43f1-4178-975c-f409494e6386",
   "metadata": {},
   "outputs": [
    {
     "name": "stdout",
     "output_type": "stream",
     "text": [
      "15\n",
      "75\n"
     ]
    }
   ],
   "source": [
    "cordinate = (15,25,50,75)\n",
    "print(cordinate[0])\n",
    "print(cordinate[-1])"
   ]
  },
  {
   "cell_type": "code",
   "execution_count": 9,
   "id": "f2fd6f4e-e1ab-45eb-9122-a9c922905090",
   "metadata": {},
   "outputs": [
    {
     "name": "stdout",
     "output_type": "stream",
     "text": [
      "{'name': ['john'], 'Sql': [90], 'Excel': [80]}\n"
     ]
    }
   ],
   "source": [
    "import pandas as pd\n",
    "\n",
    "name_Student = {\n",
    "    'name': ['john'],\n",
    "    \"Sql\": [90], \"Excel\":[80]\n",
    "}\n",
    "print(name_Student)\n",
    "\n",
    "#print(st)"
   ]
  },
  {
   "cell_type": "code",
   "execution_count": 164,
   "id": "beb2c7e2-0f74-4be7-8492-3618b6822fd6",
   "metadata": {},
   "outputs": [
    {
     "name": "stdout",
     "output_type": "stream",
     "text": [
      "(['John', 'SQL', 90], ['peter', 'SQL', 80], ['agnes', 'SQL', 70], ['ada', 'SQL', 90], ['mary', 'SQL', 50])\n"
     ]
    }
   ],
   "source": [
    "students = ['John', 'SQL', 90], ['peter', 'SQL', 80],['agnes', 'SQL', 70],['ada', 'SQL', 90],['mary', 'SQL', 50]\n",
    "\n",
    "print(students)"
   ]
  },
  {
   "cell_type": "code",
   "execution_count": null,
   "id": "7783a902-56e5-488b-9cd4-8d29509d7f0d",
   "metadata": {},
   "outputs": [],
   "source": []
  }
 ],
 "metadata": {
  "kernelspec": {
   "display_name": "Python [conda env:base] *",
   "language": "python",
   "name": "conda-base-py"
  },
  "language_info": {
   "codemirror_mode": {
    "name": "ipython",
    "version": 3
   },
   "file_extension": ".py",
   "mimetype": "text/x-python",
   "name": "python",
   "nbconvert_exporter": "python",
   "pygments_lexer": "ipython3",
   "version": "3.12.7"
  }
 },
 "nbformat": 4,
 "nbformat_minor": 5
}
